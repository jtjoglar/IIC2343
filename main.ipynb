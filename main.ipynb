{
 "cells": [
  {
   "cell_type": "markdown",
   "metadata": {},
   "source": [
    "Ejercicio GitFlow"
   ]
  },
  {
   "cell_type": "code",
   "execution_count": 2,
   "metadata": {},
   "outputs": [],
   "source": [
    "import pandas\n",
    "\n",
    "data = pandas.read_json('farmers-protest-tweets-2021-03-5.json', lines=True)"
   ]
  },
  {
   "cell_type": "code",
   "execution_count": 5,
   "metadata": {},
   "outputs": [
    {
     "name": "stdout",
     "output_type": "stream",
     "text": [
      "Index(['url', 'date', 'content', 'renderedContent', 'id', 'user', 'outlinks',\n",
      "       'tcooutlinks', 'replyCount', 'retweetCount', 'likeCount', 'quoteCount',\n",
      "       'conversationId', 'lang', 'source', 'sourceUrl', 'sourceLabel', 'media',\n",
      "       'retweetedTweet', 'quotedTweet', 'mentionedUsers'],\n",
      "      dtype='object')\n"
     ]
    }
   ],
   "source": [
    "def main():\n",
    "    print(data.columns)\n",
    "\n",
    "main()"
   ]
  },
  {
   "cell_type": "markdown",
   "metadata": {},
   "source": [
    "Función 1:  Los top 10 tweets más retweeted."
   ]
  },
  {
   "cell_type": "code",
   "execution_count": 34,
   "metadata": {},
   "outputs": [
    {
     "name": "stdout",
     "output_type": "stream",
     "text": [
      "1: why aren’t we talking about this?! #FarmersProtest https://t.co/obmIlXhK9S. Retweets: 315547\n",
      "2: We stand in solidarity with the #FarmersProtest in India.\n",
      " https://t.co/tqvR0oHgo0. Retweets: 103957\n",
      "3: I still #StandWithFarmers and support their peaceful protest.\n",
      "No amount of hate, threats or violations of human rights will ever change that. #FarmersProtest. Retweets: 67694\n",
      "4: “Paid actors,” huh? Quite the casting director, I hope they’re not overlooked during awards season. I stand with the farmers. #FarmersProtest https://t.co/moONj03tN0. Retweets: 35921\n",
      "5: What in the human rights violations is going on?! They cut the internet around New Delhi?! #FarmersProtest https://t.co/a5ml1P2ikU. Retweets: 26972\n",
      "6: Happy to share that I’ve donated $10,000 to provide medical assistance to the farmers in need in India to help save lives during these times. I hope we can prevent any additional life from being lost. 🙏🏾 #FarmersProtest https://t.co/0WoEw0l3ij. Retweets: 23251\n",
      "7: There has been much social media coverage around the #FarmersProtest in #India. Very useful guide to the legislation and the impact on farmers. 1/2 https://t.co/3CsdgBebdZ. Retweets: 20132\n",
      "8: Farmers feed the world. Fight for them. Protect them #FarmersProtest. Retweets: 18744\n",
      "9: Should be talking about this! #FarmersProtest\n",
      "\n",
      "https://t.co/Xh09iTvVoF. Retweets: 17368\n",
      "10: To all of my influencer/celeb friends- read up on this   #FarmersProtest 👀. Retweets: 15677\n"
     ]
    }
   ],
   "source": [
    "def retweets():\n",
    "    #print(data.nlargest(10, 'retweetCount', keep='all'))\n",
    "    x = data['retweetCount'].nlargest(n=10)\n",
    "    for i in range(10):\n",
    "        print(str(i+1)+\":\", data['content'][x.index[i]]+\".\", \"Retweets:\", data['retweetCount'][x.index[i]])\n",
    "\n",
    "retweets()"
   ]
  }
 ],
 "metadata": {
  "interpreter": {
   "hash": "a5dfe4c830bbc95c6a798317bb482618d7eda63bbcc3ed509b1a89d49a14e199"
  },
  "kernelspec": {
   "display_name": "Python 3.8.5 64-bit",
   "language": "python",
   "name": "python3"
  },
  "language_info": {
   "codemirror_mode": {
    "name": "ipython",
    "version": 3
   },
   "file_extension": ".py",
   "mimetype": "text/x-python",
   "name": "python",
   "nbconvert_exporter": "python",
   "pygments_lexer": "ipython3",
   "version": "3.8.5"
  },
  "orig_nbformat": 4
 },
 "nbformat": 4,
 "nbformat_minor": 2
}
