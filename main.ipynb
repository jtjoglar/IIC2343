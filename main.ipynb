{
 "cells": [
  {
   "cell_type": "markdown",
   "metadata": {},
   "source": [
    "Ejercicio GitFlow"
   ]
  },
  {
   "cell_type": "code",
   "execution_count": 1,
   "metadata": {},
   "outputs": [],
   "source": [
    "import pandas\n",
    "import json\n",
    "\n",
    "data = pandas.read_json('farmers-protest-tweets-2021-03-5.json', lines=True)"
   ]
  },
  {
   "cell_type": "code",
   "execution_count": 12,
   "metadata": {},
   "outputs": [],
   "source": [
    "with open('farmers-protest-tweets-2021-03-5.json') as file:\n",
    "    info = file.readlines()\n",
    "lista = list()\n",
    "for i in info:\n",
    "    objeto = json.loads(i)\n",
    "    lista.append(objeto)"
   ]
  },
  {
   "cell_type": "markdown",
   "metadata": {},
   "source": [
    "Función 1:  Los top 10 tweets más retweeted."
   ]
  },
  {
   "cell_type": "code",
   "execution_count": 2,
   "metadata": {},
   "outputs": [],
   "source": [
    "def retweets():\n",
    "    #print(data.nlargest(10, 'retweetCount', keep='all'))\n",
    "    x = data['retweetCount'].nlargest(n=10)\n",
    "    for i in range(10):\n",
    "        print(str(i+1)+\":\", data['content'][x.index[i]]+\".\", \"Retweets:\", data['retweetCount'][x.index[i]])"
   ]
  },
  {
   "cell_type": "markdown",
   "metadata": {},
   "source": [
    "Función 2:  Los top 10 usuarios en función a la cantidad de tweets que emitieron."
   ]
  },
  {
   "cell_type": "code",
   "execution_count": null,
   "metadata": {},
   "outputs": [],
   "source": [
    "def users():\n",
    "    dict_users = dict()\n",
    "    for tweet in lista:\n",
    "        usuario = tweet['user']\n",
    "        if usuario['username'] in dict_users.keys():\n",
    "            dict_users[usuario['username']] += 1\n",
    "        else:\n",
    "            dict_users[usuario['username']] = 0\n",
    "\n",
    "    #https://careerkarma.com/blog/python-sort-a-dictionary-by-value/#:~:text=To%20sort%20a%20dictionary%20by%20value%20in%20Python%20you%20can,Dictionaries%20are%20unordered%20data%20structures.\n",
    "    sort_users = sorted(dict_users.items(), key=lambda x: x[1], reverse=True)\n",
    "    cont = 0\n",
    "    for i in sort_users:\n",
    "        if cont < 10:\n",
    "            print(\"#\"+i[0]+\":\", i[1])\n",
    "            cont += 1"
   ]
  },
  {
   "cell_type": "markdown",
   "metadata": {},
   "source": [
    "Función 3: Los top 10 días donde hay más tweets."
   ]
  },
  {
   "cell_type": "code",
   "execution_count": 3,
   "metadata": {},
   "outputs": [],
   "source": [
    "def top_day():\n",
    "    data['date'] = pandas.to_datetime(data['date'])\n",
    "    df_date = data.groupby(by=data['date'].dt.date).count()\n",
    "    x = df_date['url'].nlargest(n=10)\n",
    "    print(x)"
   ]
  },
  {
   "cell_type": "markdown",
   "metadata": {},
   "source": [
    "Función 4: Top 10 hashtags más usados."
   ]
  },
  {
   "cell_type": "code",
   "execution_count": 4,
   "metadata": {},
   "outputs": [],
   "source": [
    "def hashtags():\n",
    "    regex = '#(\\w+)'\n",
    "    tags = data['content'].str.findall(regex)\n",
    "    \n",
    "    dict_tags = dict()\n",
    "    for lista in tags:\n",
    "        for i in lista:\n",
    "            if i in dict_tags.keys():\n",
    "                dict_tags[i] += 1\n",
    "            else:\n",
    "                dict_tags[i] = 0\n",
    "\n",
    "    #https://careerkarma.com/blog/python-sort-a-dictionary-by-value/#:~:text=To%20sort%20a%20dictionary%20by%20value%20in%20Python%20you%20can,Dictionaries%20are%20unordered%20data%20structures.\n",
    "    sort_tags = sorted(dict_tags.items(), key=lambda x: x[1], reverse=True)\n",
    "    cont = 0\n",
    "    for i in sort_tags:\n",
    "        if cont < 10:\n",
    "            print(\"#\"+i[0]+\":\", i[1])\n",
    "            cont += 1"
   ]
  },
  {
   "cell_type": "markdown",
   "metadata": {},
   "source": [
    "Main: \n",
    "Ejecutar esta celda después de todas las otras, para que todo funcione."
   ]
  },
  {
   "cell_type": "code",
   "execution_count": 8,
   "metadata": {},
   "outputs": [
    {
     "name": "stdout",
     "output_type": "stream",
     "text": [
      "0. Salir\n",
      "1. Top 10 Retweets\n",
      "2. Top 10 Users\n",
      "3. Top 10 Días\n",
      "4. Top 10 Hashtags\n",
      "\n",
      "#FarmersProtest: 406612\n",
      "#IStandWithFarmers: 15782\n",
      "#farmersprotest: 15457\n",
      "#IndianFarmersHumanRights: 12018\n",
      "#FarmersAreIndia: 11042\n",
      "#StandWithFarmers: 10644\n",
      "#Rihanna: 9116\n",
      "#FarmersProtests: 8749\n",
      "#Farmers: 6560\n",
      "#shameonbollywood: 6269\n"
     ]
    }
   ],
   "source": [
    "def main():\n",
    "    funcion = \"\"\n",
    "\n",
    "    print(\"0. Salir\\n1. Top 10 Retweets\\n2. Top 10 Users\\n3. Top 10 Días\\n4. Top 10 Hashtags\\n\")\n",
    "    funcion = str(input(\"Elija un número: \"))\n",
    "    while funcion != \"0\" and funcion != \"1\" and funcion != \"2\" and funcion != \"3\" and funcion != \"4\":\n",
    "        print(\"Número incorrecto, elija un número entre 0 y 4\")\n",
    "        print(\"0. Salir\\n1. Top 10 Retweets\\n2. Top 10 Users\\n3. Top 10 Días\\n4. Top 10 Hashtags\\n\")\n",
    "        funcion = str(input(\"Elija un número: \"))\n",
    "    \n",
    "    if funcion == \"1\":\n",
    "        retweets()\n",
    "    elif funcion == \"2\":\n",
    "        users()\n",
    "    elif funcion == \"3\":\n",
    "        top_day()\n",
    "    elif funcion == \"4\":\n",
    "        hashtags()\n",
    "\n",
    "main()"
   ]
  }
 ],
 "metadata": {
  "interpreter": {
   "hash": "a5dfe4c830bbc95c6a798317bb482618d7eda63bbcc3ed509b1a89d49a14e199"
  },
  "kernelspec": {
   "display_name": "Python 3.8.5 64-bit",
   "language": "python",
   "name": "python3"
  },
  "language_info": {
   "codemirror_mode": {
    "name": "ipython",
    "version": 3
   },
   "file_extension": ".py",
   "mimetype": "text/x-python",
   "name": "python",
   "nbconvert_exporter": "python",
   "pygments_lexer": "ipython3",
   "version": "3.8.5"
  },
  "orig_nbformat": 4
 },
 "nbformat": 4,
 "nbformat_minor": 2
}
