{
 "cells": [
  {
   "cell_type": "markdown",
   "metadata": {},
   "source": [
    "Ejercicio GitFlow"
   ]
  },
  {
   "cell_type": "code",
   "execution_count": 2,
   "metadata": {},
   "outputs": [],
   "source": [
    "import pandas\n",
    "\n",
    "data = pandas.read_json('farmers-protest-tweets-2021-03-5.json', lines=True)"
   ]
  },
  {
   "cell_type": "code",
   "execution_count": 3,
   "metadata": {},
   "outputs": [
    {
     "name": "stdout",
     "output_type": "stream",
     "text": [
      "Index(['url', 'date', 'content', 'renderedContent', 'id', 'user', 'outlinks',\n",
      "       'tcooutlinks', 'replyCount', 'retweetCount', 'likeCount', 'quoteCount',\n",
      "       'conversationId', 'lang', 'source', 'sourceUrl', 'sourceLabel', 'media',\n",
      "       'retweetedTweet', 'quotedTweet', 'mentionedUsers'],\n",
      "      dtype='object')\n"
     ]
    }
   ],
   "source": [
    "def main():\n",
    "    print(data.columns)\n",
    "\n",
    "main()"
   ]
  }
 ],
 "metadata": {
  "interpreter": {
   "hash": "a5dfe4c830bbc95c6a798317bb482618d7eda63bbcc3ed509b1a89d49a14e199"
  },
  "kernelspec": {
   "display_name": "Python 3.8.5 64-bit",
   "language": "python",
   "name": "python3"
  },
  "language_info": {
   "codemirror_mode": {
    "name": "ipython",
    "version": 3
   },
   "file_extension": ".py",
   "mimetype": "text/x-python",
   "name": "python",
   "nbconvert_exporter": "python",
   "pygments_lexer": "ipython3",
   "version": "3.8.5"
  },
  "orig_nbformat": 4
 },
 "nbformat": 4,
 "nbformat_minor": 2
}
